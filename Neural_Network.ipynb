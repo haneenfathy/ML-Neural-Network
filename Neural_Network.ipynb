{
 "cells": [
  {
   "cell_type": "markdown",
   "metadata": {},
   "source": [
    "# Neural Network from Scratch\n"
   ]
  },
  {
   "cell_type": "markdown",
   "metadata": {},
   "source": [
    "## Import libraries\n",
    "\n",
    "We will be using the lower resolution MINST data set"
   ]
  },
  {
   "cell_type": "code",
   "execution_count": 2,
   "metadata": {},
   "outputs": [],
   "source": [
    "from sklearn.datasets import load_digits # The MNIST data set is in scikit learn data set\n",
    "from sklearn.preprocessing import StandardScaler  # It is important in neural networks to scale the date\n",
    "from sklearn.model_selection import train_test_split  # The standard - train/test to prevent overfitting and choose hyperparameters\n",
    "from sklearn.metrics import accuracy_score # \n",
    "import numpy as np\n",
    "import numpy.random as r # We will randomly initialize our weights\n",
    "import matplotlib.pyplot as plt "
   ]
  },
  {
   "cell_type": "markdown",
   "metadata": {},
   "source": [
    "## Looking at the data\n",
    "\n",
    "After we load the data, we print the shape of the data and a pixelated digit.\n",
    "\n",
    "We also show what the features of one example looks like.\n",
    "\n",
    "The neural net will learn to estimate which digit these pixels represent."
   ]
  },
  {
   "cell_type": "code",
   "execution_count": 3,
   "metadata": {},
   "outputs": [
    {
     "name": "stdout",
     "output_type": "stream",
     "text": [
      "The shape of the digits dataset:\n",
      "(1797, 64)\n"
     ]
    },
    {
     "data": {
      "text/plain": [
       "<Figure size 432x288 with 0 Axes>"
      ]
     },
     "metadata": {},
     "output_type": "display_data"
    },
    {
     "data": {
      "image/png": "[encoded data removed]",
      "text/plain": [
       "<Figure size 288x288 with 1 Axes>"
      ]
     },
     "metadata": {
      "needs_background": "light"
     },
     "output_type": "display_data"
    },
    {
     "name": "stdout",
     "output_type": "stream",
     "text": [
      "[0 1 2 ... 8 9 8]\n",
      "[[ 0.  0.  5. ...  0.  0.  0.]\n",
      " [ 0.  0.  0. ... 10.  0.  0.]\n",
      " [ 0.  0.  0. ... 16.  9.  0.]\n",
      " ...\n",
      " [ 0.  0.  1. ...  6.  0.  0.]\n",
      " [ 0.  0.  2. ... 12.  0.  0.]\n",
      " [ 0.  0. 10. ... 12.  1.  0.]]\n"
     ]
    }
   ],
   "source": [
    "# load all the digits (img)\n",
    "digits = load_digits()\n",
    "# load the data from the digit (img)\n",
    "\n",
    "print(\"The shape of the digits dataset:\") \n",
    "print(digits.data.shape)\n",
    "# plot the digits\n",
    "# using .gray()\n",
    "\n",
    "# and .matshow() with argument digit.images[xx]\n",
    "\n",
    "# plt.show()\n",
    "plt.gray() \n",
    "plt.matshow(digits.images[4]) \n",
    "plt.show()\n",
    "# get the gt for this digit img\n",
    "y=digits.target\n",
    "X=digits.data\n",
    "print(y)\n",
    "print(X)"
   ]
  },
  {
   "cell_type": "markdown",
   "metadata": {},
   "source": [
    "## 1) Scale the dataset\n",
    "The training features range from 0 to 15.  To help the algorithm converge, we will scale the data to have a mean of 0 and unit variance"
   ]
  },
  {
   "cell_type": "code",
   "execution_count": 4,
   "metadata": {},
   "outputs": [
    {
     "name": "stdout",
     "output_type": "stream",
     "text": [
      "[[ 0.         -0.33501649 -0.04308102 ... -1.14664746 -0.5056698\n",
      "  -0.19600752]\n",
      " [ 0.         -0.33501649 -1.09493684 ...  0.54856067 -0.5056698\n",
      "  -0.19600752]\n",
      " [ 0.         -0.33501649 -1.09493684 ...  1.56568555  1.6951369\n",
      "  -0.19600752]\n",
      " ...\n",
      " [ 0.         -0.33501649 -0.88456568 ... -0.12952258 -0.5056698\n",
      "  -0.19600752]\n",
      " [ 0.         -0.33501649 -0.67419451 ...  0.8876023  -0.5056698\n",
      "  -0.19600752]\n",
      " [ 0.         -0.33501649  1.00877481 ...  0.8876023  -0.26113572\n",
      "  -0.19600752]]\n"
     ]
    }
   ],
   "source": [
    "# use the stander lib to scale the data\n",
    "scale=StandardScaler()\n",
    "# init the scaler \n",
    "\n",
    "# fit the data to the scaler \n",
    "X=scale.fit_transform(X)\n",
    "\n",
    "# Looking the new features after scaling\n",
    "print(X)"
   ]
  },
  {
   "cell_type": "markdown",
   "metadata": {},
   "source": [
    "## 2) Creating training and test datasets\n",
    "We split the data into training and test data sets. We will train the neural network with the training dataset, and evaluate our neural network with the test dataset "
   ]
  },
  {
   "cell_type": "code",
   "execution_count": 5,
   "metadata": {},
   "outputs": [
    {
     "name": "stdout",
     "output_type": "stream",
     "text": [
      "(1078, 64)\n",
      "(719, 64)\n",
      "(1078,)\n",
      "(719,)\n"
     ]
    }
   ],
   "source": [
    "#Split the data into training and test set.  60% training and %40 test\n",
    "# split=int(len(X)*0.4)\n",
    "# print(len(X))\n",
    "# print(split)\n",
    "# X_train=X[:len(X)-split]\n",
    "# X_test=X[len(X)-split:]\n",
    "# y_train=y[:len(X)-split]\n",
    "# y_test=y[len(X)-split:]\n",
    "\n",
    "X_train, X_test, y_train, y_test = train_test_split(X, y, train_size = 0.6,test_size = 0.4)\n",
    "print(X_train.shape)\n",
    "print(X_test.shape)\n",
    "print(y_train.shape)\n",
    "print(y_test.shape)\n",
    "# print(vector)"
   ]
  },
  {
   "cell_type": "markdown",
   "metadata": {},
   "source": [
    "## 3) Setting up the output layer"
   ]
  },
  {
   "cell_type": "markdown",
   "metadata": {},
   "source": [
    "### One hot encoding"
   ]
  },
  {
   "cell_type": "code",
   "execution_count": 6,
   "metadata": {},
   "outputs": [],
   "source": [
    "def convert_y_to_vect(y):\n",
    "#     Our target is an integer in the range [0,..,9], so we will have 10 output neuron's in our network.  \n",
    "\n",
    "#     If  y=0 we want the output neurons to have the values (1,0,0,0,0,0,0,0,0,0)\n",
    "#     If  y=1 we want the output neurons to have the values (0,1,0,0,0,0,0,0,0,0)\n",
    "#     etc\n",
    "\n",
    "#     Thus we need to change our target so it is the same as our hoped for output of the neural network. \n",
    "\n",
    "#     If y=0$we change it into the vector (1,0,0,0,0,0,0,0,0,0)\n",
    "#     If y=1 we change it into the vector (0,1,0,0,0,0,0,0,0,0)\n",
    "#     etc\n",
    "\n",
    "#     The code to covert the target vector.\n",
    "    vector=np.zeros((len(y),10), dtype=float)\n",
    "    count=0\n",
    "    for i in y:\n",
    "        idx=i\n",
    "        vector[count][idx]=1\n",
    "        count=count+1\n",
    "    return vector"
   ]
  },
  {
   "cell_type": "markdown",
   "metadata": {},
   "source": [
    "Converting the training and test targets to vectors "
   ]
  },
  {
   "cell_type": "code",
   "execution_count": 7,
   "metadata": {},
   "outputs": [],
   "source": [
    "# convert digits to vectors using the func above\n",
    "y_v_train=convert_y_to_vect(y_train)\n",
    "y_v_test=convert_y_to_vect(y_test)\n",
    "# appky this to both train and test splits\n"
   ]
  },
  {
   "cell_type": "markdown",
   "metadata": {},
   "source": [
    "A quick check to see that our code performs as we expect "
   ]
  },
  {
   "cell_type": "code",
   "execution_count": 8,
   "metadata": {},
   "outputs": [
    {
     "name": "stdout",
     "output_type": "stream",
     "text": [
      "[6 7 1 1]\n",
      "[[0. 0. 0. 0. 0. 0. 1. 0. 0. 0.]\n",
      " [0. 0. 0. 0. 0. 0. 0. 1. 0. 0.]\n",
      " [0. 1. 0. 0. 0. 0. 0. 0. 0. 0.]\n",
      " [0. 1. 0. 0. 0. 0. 0. 0. 0. 0.]]\n"
     ]
    }
   ],
   "source": [
    "print(y_train[0:4])\n",
    "print(y_v_train[0:4])"
   ]
  },
  {
   "cell_type": "markdown",
   "metadata": {},
   "source": [
    "## 4) Creating the neural network"
   ]
  },
  {
   "cell_type": "markdown",
   "metadata": {},
   "source": [
    "### The activation function and its derivative"
   ]
  },
  {
   "cell_type": "code",
   "execution_count": 9,
   "metadata": {},
   "outputs": [],
   "source": [
    "# We will use the sigmoid activation function:  f(z)={1}/{1+e^{-z}}\n",
    "def f(z):\n",
    "    return 1/(1+np.exp(-z))\n",
    "\n",
    "# The deriviative of the sigmoid function is: $f'(z) = f(z)(1-f(z))$ \n",
    "def f_deriv(z):\n",
    "    fz=f(z)\n",
    "    return fz*(1-fz)"
   ]
  },
  {
   "cell_type": "code",
   "execution_count": 10,
   "metadata": {},
   "outputs": [],
   "source": [
    "def relu(z):\n",
    "    return np.maximum(0,z)\n",
    "def relu_deriv(z):\n",
    "    return(z>0).astype(int)"
   ]
  },
  {
   "cell_type": "code",
   "execution_count": 11,
   "metadata": {},
   "outputs": [],
   "source": [
    "def tanh(z):\n",
    "    return (np.exp(z)-np.exp(-z))/(np.exp(z)+np.exp(-z))\n",
    "def tanh_deriv(z):\n",
    "    return 1-tanh(z)**2"
   ]
  },
  {
   "cell_type": "markdown",
   "metadata": {},
   "source": [
    "### Creating and initialing W and b\n"
   ]
  },
  {
   "cell_type": "code",
   "execution_count": 12,
   "metadata": {},
   "outputs": [
    {
     "name": "stdout",
     "output_type": "stream",
     "text": [
      "(10,)\n"
     ]
    }
   ],
   "source": [
    "def setup_and_init_weights(nn_structure):\n",
    "    # The weights in W are different so that during back propagation the nodes on a level will have different gradients and thus have different update values.\n",
    "    \n",
    "    #creating a dictionary for wiehgts i.e. a set of key: value pairs\n",
    "    weights={}\n",
    "    #creating a dictionary for bias i.e. a set of key: value pairs\n",
    "    bias={}\n",
    "\n",
    "        # We want the weights to be small values, since the sigmoid is almost \"flat\" for large inputs.\n",
    "        # Next is the code that assigns each weight a number uniformly drawn from $[0.0, 1.0)$.  \n",
    "        # The code assumes that the number of neurons in each level is in the python list *nn_structure*.\n",
    "        # .random_sample return “continuous uniform” random floats in the half-open interval [0.0, 1.0). \n",
    "    weights[1]=r.random_sample((nn_structure[1], nn_structure[0]))\n",
    "    weights[2]=r.random_sample((nn_structure[2], nn_structure[1]))\n",
    "\n",
    "    bias[1]=r.random_sample((nn_structure[1],))\n",
    "    bias[2]=r.random_sample((nn_structure[2],))\n",
    "\n",
    "    return weights,bias\n",
    "\n",
    "nn_structure = [64, 30, 10]\n",
    "weights,bias=setup_and_init_weights(nn_structure)\n",
    "print(bias[2].shape)"
   ]
  },
  {
   "cell_type": "markdown",
   "metadata": {},
   "source": [
    "### Initializing $\\triangledown W$ and $\\triangledown b$\n"
   ]
  },
  {
   "cell_type": "code",
   "execution_count": 13,
   "metadata": {},
   "outputs": [],
   "source": [
    "def init_tri_values(nn_structure):\n",
    "    # Creating dlt_W and dlt_b to have the same size as W and b,and init the dlt_W, and dlt_b to 0\n",
    "    dlt_W={}\n",
    "    dlt_b={}\n",
    "    \n",
    "    dlt_W[1]=np.zeros((nn_structure[1], nn_structure[0]))\n",
    "    dlt_W[2]=np.zeros((nn_structure[2], nn_structure[1]))\n",
    "\n",
    "    dlt_b[1]=np.zeros((nn_structure[1],))\n",
    "    dlt_b[2]=np.zeros((nn_structure[2],))\n",
    "    \n",
    "    # use for loop to init the dlt W and dlt b\n",
    "    \n",
    "        # you can use np.zeros\n",
    "    return dlt_W,dlt_b"
   ]
  },
  {
   "cell_type": "markdown",
   "metadata": {},
   "source": [
    "## Feed forward\n",
    "Perform a forward pass throught the network.  The function returns the values of $a$ and $z$"
   ]
  },
  {
   "cell_type": "code",
   "execution_count": 14,
   "metadata": {},
   "outputs": [],
   "source": [
    "def feed_forward(x, weights, bias):\n",
    "    # create a dictionary for holding the a values for all levels\n",
    "    a_values={}\n",
    "    # create a dictionary for holding the z values for all the layers\n",
    "    z_values={}\n",
    "    # for each layer\n",
    "    for i in range(1,len(nn_structure)): \n",
    "        a_values[1]=x\n",
    "        # z^(l+1) = W^(l)*a^(l) + b^(l)\n",
    "        z_values[i]=np.dot(weights[i],a_values[i])+bias[i]\n",
    "        # a^(l+1) = f(z^(l+1))\n",
    "        a_values[i+1]=f(z_values[i])\n",
    "\n",
    "    return a_values,z_values\n",
    "\n"
   ]
  },
  {
   "cell_type": "markdown",
   "metadata": {},
   "source": [
    "## Compute $\\delta$\n",
    "compute $\\delta^{(s_l)}$ in a function called \"calculate_out_layer_delta\",  and  computes $\\delta^{(\\ell)}$ for the hidden layers in the function called \"calculate_hidden_delta\".  \n",
    "\n"
   ]
  },
  {
   "cell_type": "code",
   "execution_count": 15,
   "metadata": {},
   "outputs": [],
   "source": [
    "def calculate_out_layer_delta(y, a_out, z_out):\n",
    "    # delta^(nl) = -(y_i - a_i^(nl)) * f'(z_i^(nl))\n",
    "    delta_nl=-(y-a_out)*f_deriv(z_out)\n",
    "    return delta_nl\n",
    "\n",
    "\n",
    "def calculate_hidden_delta(delta_plus_1, w_l, z_l):\n",
    "    # delta^(l) = (transpose(W^(l)) * delta^(l+1)) * f'(z^(l))\n",
    "    delta_l=w_l.T*delta_plus_1*f_deriv(z_l)\n",
    "    return delta_l"
   ]
  },
  {
   "cell_type": "code",
   "execution_count": 16,
   "metadata": {},
   "outputs": [],
   "source": [
    "def evaluate_error(y,a_values):\n",
    "    MSE=np.square(np.subtract(y,a_values)).mean()\n",
    "    return MSE"
   ]
  },
  {
   "cell_type": "markdown",
   "metadata": {},
   "source": [
    "## The Back Propagation Algorithm\n"
   ]
  },
  {
   "cell_type": "code",
   "execution_count": 17,
   "metadata": {},
   "outputs": [],
   "source": [
    "def train_nn(nn_structure, X, y, iter_num=3000, alpha=0.25):\n",
    "    # init W and b\n",
    "    weights, bias = setup_and_init_weights(nn_structure)\n",
    "    # init counter to 0\n",
    "    counter=0\n",
    "    # store the length of data\n",
    "    length=X.shape[0]\n",
    "    # init a list to store the all costs\n",
    "    cost_list=[]\n",
    "    print('Starting gradient descent for {} iterations'.format(iter_num))\n",
    "    # while the counter is less than the max iterations:\n",
    "    while counter<iter_num:\n",
    "        # print the iteration number for every 1000 iter\n",
    "        if counter % 100 == 0 :\n",
    "            print(\"iteration number\", counter)\n",
    "        \n",
    "        # init delt_W and delt_b\n",
    "        delt_W,delt_b=init_tri_values(nn_structure)\n",
    "        # init the cost to 0\n",
    "        cost=0\n",
    "        # for each data:\n",
    "        for i in range(length):\n",
    "            new_weights={}\n",
    "            data_x=X[i]\n",
    "            data_y=y[i]\n",
    "            # perform the feed forward pass and return the stored a and z values, to be used in the\n",
    "            # gradient descent step\n",
    "            a_values,z_values=feed_forward(data_x, weights, bias)\n",
    "            # loop from nl-1 to 1 backpropagating the errors\n",
    "#         print(avg_cost)\n",
    "            for j in range(len(nn_structure)-1, 1, -1):\n",
    "                new_weights[len(nn_structure)] = calculate_out_layer_delta(data_y,a_values[len(nn_structure)],z_values[len(nn_structure)-1]) \n",
    "                new_weights[j] = calculate_hidden_delta(new_weights[j+1], weights[j], z_values[j])\n",
    "#                 print(a_values[len(nn_zaazaastructure)])\n",
    "                cost=cost+evaluate_error(data_y,a_values[len(nn_structure)])\n",
    "                delt_W[j] =delt_W[j]+ np.matmul(new_weights[j+1][:,np.newaxis],np.transpose(a_values[j][:,np.newaxis]))\n",
    "                # tri_W[l] =tri_W[l]+ np.dot(delta[l+1][:,np.newaxis], np.transpose(a[l][:,np.newaxis]))\n",
    "                # triW^(l) = triW^(l) + delta^(l+1) * transpose(a^(l))\n",
    "                # hit: you can use np.newaxis to increase the number of dimensions\n",
    "                        \n",
    "                # trib^(l) = trib^(l) + delta^(l+1)  \n",
    "                delt_b[j] = delt_b[j]+new_weights[j+1]\n",
    "        # perform the gradient descent step for the weights in each layer\n",
    "        \n",
    "        for k in range(1,len(nn_structure)):\n",
    "            weights[k] =weights[k]- (alpha*delt_W[k]/length)\n",
    "            bias[k] = bias[k]- (alpha*delt_b[k]/length)\n",
    "        \n",
    "        # complete the average cost (mean squared error) calculation\n",
    "        cost=cost/length\n",
    "        # append the cost to the cost list\n",
    "        cost_list.append(cost)\n",
    "        # increase the counter \n",
    "        counter=counter+1\n",
    "    return weights,bias,cost_list"
   ]
  },
  {
   "cell_type": "code",
   "execution_count": 18,
   "metadata": {},
   "outputs": [],
   "source": [
    "\n",
    "def predict_y(W, b, X, n_layers):\n",
    "    length = X.shape[0]\n",
    "    predictions_list=[]\n",
    "    for i in range(length):\n",
    "        a_values, z_values = feed_forward(X[i], W, b)\n",
    "        prediction = np.argmax(a_values[n_layers])\n",
    "        predictions_list.append(prediction)\n",
    "    return predictions_list"
   ]
  },
  {
   "cell_type": "markdown",
   "metadata": {},
   "source": [
    "## Running the neural network\n",
    "\n",
    "Our code assumes the size of each layer in our network is held in a list.  The input layer will have 64 neurons (one for each pixel in our 8 by 8 pixelated digit).  Our hidden layer has 30 neurons (you can change this value).  The output layer has 10 neurons.\n",
    "\n",
    "Next we create the python list to hold the number of neurons for each level and then run the neural network code with our training data.\n",
    "\n",
    "This code will take some time..."
   ]
  },
  {
   "cell_type": "code",
   "execution_count": 19,
   "metadata": {},
   "outputs": [
    {
     "name": "stdout",
     "output_type": "stream",
     "text": [
      "Starting gradient descent for 3000 iterations\n",
      "iteration number 0\n",
      "iteration number 100\n",
      "iteration number 200\n",
      "iteration number 300\n",
      "iteration number 400\n",
      "iteration number 500\n",
      "iteration number 600\n",
      "iteration number 700\n",
      "iteration number 800\n",
      "iteration number 900\n",
      "iteration number 1000\n",
      "iteration number 1100\n",
      "iteration number 1200\n",
      "iteration number 1300\n",
      "iteration number 1400\n",
      "iteration number 1500\n",
      "iteration number 1600\n",
      "iteration number 1700\n",
      "iteration number 1800\n",
      "iteration number 1900\n",
      "iteration number 2000\n",
      "iteration number 2100\n",
      "iteration number 2200\n",
      "iteration number 2300\n",
      "iteration number 2400\n",
      "iteration number 2500\n",
      "iteration number 2600\n",
      "iteration number 2700\n",
      "iteration number 2800\n",
      "iteration number 2900\n"
     ]
    }
   ],
   "source": [
    "nn_structure = [64, 30, 10]\n",
    "\n",
    "# train the NN with the nn_structure and 3000 iterations\n",
    "W, b, costList = train_nn(nn_structure, X_train,y_v_train, 3000,0.25)\n"
   ]
  },
  {
   "cell_type": "markdown",
   "metadata": {},
   "source": [
    "### Plotting the learning curve\n"
   ]
  },
  {
   "cell_type": "code",
   "execution_count": 20,
   "metadata": {},
   "outputs": [
    {
     "data": {
      "image/png": "[encoded data removed]",
      "text/plain": [
       "<Figure size 432x288 with 1 Axes>"
      ]
     },
     "metadata": {
      "needs_background": "light"
     },
     "output_type": "display_data"
    }
   ],
   "source": [
    "\n",
    "plt.plot(costList)\n",
    "# x label: \"Iteration number\"\n",
    "plt.xlabel(\"Iteration number\")\n",
    "# y label: \"Average J\"\n",
    "plt.ylabel(\"Average J\")\n",
    "plt.show()"
   ]
  },
  {
   "cell_type": "markdown",
   "metadata": {},
   "source": [
    "## 5) Assessing accuracy\n",
    "Next we determine what percentage the neural network correctly predicted the handwritten digit correctly on the test set"
   ]
  },
  {
   "cell_type": "code",
   "execution_count": 21,
   "metadata": {},
   "outputs": [
    {
     "name": "stdout",
     "output_type": "stream",
     "text": [
      "Prediction accuracy is 67.17663421418636%\n"
     ]
    }
   ],
   "source": [
    "# get the prediction accuracy and print\n",
    "y_pred = predict_y(W, b, X_test, 3)\n",
    "print('Prediction accuracy is {}%'.format(accuracy_score(y_test, y_pred) * 100))"
   ]
  },
  {
   "cell_type": "markdown",
   "metadata": {},
   "source": []
  },
  {
   "cell_type": "code",
   "execution_count": null,
   "metadata": {},
   "outputs": [],
   "source": []
  }
 ],
 "metadata": {
  "kernelspec": {
   "display_name": "Python 3",
   "language": "python",
   "name": "python3"
  },
  "language_info": {
   "codemirror_mode": {
    "name": "ipython",
    "version": 3
   },
   "file_extension": ".py",
   "mimetype": "text/x-python",
   "name": "python",
   "nbconvert_exporter": "python",
   "pygments_lexer": "ipython3",
   "version": "3.8.3"
  }
 },
 "nbformat": 4,
 "nbformat_minor": 2
}
